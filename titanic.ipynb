{
  "nbformat": 4,
  "nbformat_minor": 0,
  "metadata": {
    "colab": {
      "provenance": [],
      "authorship_tag": "ABX9TyM0esZkSVEsqqHn42cdjIpE"
    },
    "kernelspec": {
      "name": "python3",
      "display_name": "Python 3"
    },
    "language_info": {
      "name": "python"
    },
    "widgets": {
      "application/vnd.jupyter.widget-state+json": {
        "5e6ade0a92c1413ea88420fa37be095d": {
          "model_module": "@jupyter-widgets/controls",
          "model_name": "HBoxModel",
          "model_module_version": "1.5.0",
          "state": {
            "_dom_classes": [],
            "_model_module": "@jupyter-widgets/controls",
            "_model_module_version": "1.5.0",
            "_model_name": "HBoxModel",
            "_view_count": null,
            "_view_module": "@jupyter-widgets/controls",
            "_view_module_version": "1.5.0",
            "_view_name": "HBoxView",
            "box_style": "",
            "children": [
              "IPY_MODEL_6813fb3e228f4f3aadfa116f784637fc",
              "IPY_MODEL_4d2473d2dd9a4fc0bd56cf2457ec7bef",
              "IPY_MODEL_24420cc3df704f798c96457a11bc1d2d"
            ],
            "layout": "IPY_MODEL_e0afb277ca2242a785abc2fa81c12b15"
          }
        },
        "6813fb3e228f4f3aadfa116f784637fc": {
          "model_module": "@jupyter-widgets/controls",
          "model_name": "HTMLModel",
          "model_module_version": "1.5.0",
          "state": {
            "_dom_classes": [],
            "_model_module": "@jupyter-widgets/controls",
            "_model_module_version": "1.5.0",
            "_model_name": "HTMLModel",
            "_view_count": null,
            "_view_module": "@jupyter-widgets/controls",
            "_view_module_version": "1.5.0",
            "_view_name": "HTMLView",
            "description": "",
            "description_tooltip": null,
            "layout": "IPY_MODEL_11d5a20e978a4d628b87c3b2fd2bacf5",
            "placeholder": "​",
            "style": "IPY_MODEL_7ca41070071d40a89ba4c4f203926f54",
            "value": "Summarize dataset: 100%"
          }
        },
        "4d2473d2dd9a4fc0bd56cf2457ec7bef": {
          "model_module": "@jupyter-widgets/controls",
          "model_name": "FloatProgressModel",
          "model_module_version": "1.5.0",
          "state": {
            "_dom_classes": [],
            "_model_module": "@jupyter-widgets/controls",
            "_model_module_version": "1.5.0",
            "_model_name": "FloatProgressModel",
            "_view_count": null,
            "_view_module": "@jupyter-widgets/controls",
            "_view_module_version": "1.5.0",
            "_view_name": "ProgressView",
            "bar_style": "success",
            "description": "",
            "description_tooltip": null,
            "layout": "IPY_MODEL_40b23e5e880e4a17b6245030fc62c92e",
            "max": 5,
            "min": 0,
            "orientation": "horizontal",
            "style": "IPY_MODEL_7de1347d5c354b6c9bb84661aabd00c7",
            "value": 5
          }
        },
        "24420cc3df704f798c96457a11bc1d2d": {
          "model_module": "@jupyter-widgets/controls",
          "model_name": "HTMLModel",
          "model_module_version": "1.5.0",
          "state": {
            "_dom_classes": [],
            "_model_module": "@jupyter-widgets/controls",
            "_model_module_version": "1.5.0",
            "_model_name": "HTMLModel",
            "_view_count": null,
            "_view_module": "@jupyter-widgets/controls",
            "_view_module_version": "1.5.0",
            "_view_name": "HTMLView",
            "description": "",
            "description_tooltip": null,
            "layout": "IPY_MODEL_23412ce062f744078d917cc19242ef47",
            "placeholder": "​",
            "style": "IPY_MODEL_be9920579851485dad84d2e335d3c680",
            "value": " 47/47 [00:11&lt;00:00,  3.04it/s, Completed]"
          }
        },
        "e0afb277ca2242a785abc2fa81c12b15": {
          "model_module": "@jupyter-widgets/base",
          "model_name": "LayoutModel",
          "model_module_version": "1.2.0",
          "state": {
            "_model_module": "@jupyter-widgets/base",
            "_model_module_version": "1.2.0",
            "_model_name": "LayoutModel",
            "_view_count": null,
            "_view_module": "@jupyter-widgets/base",
            "_view_module_version": "1.2.0",
            "_view_name": "LayoutView",
            "align_content": null,
            "align_items": null,
            "align_self": null,
            "border": null,
            "bottom": null,
            "display": null,
            "flex": null,
            "flex_flow": null,
            "grid_area": null,
            "grid_auto_columns": null,
            "grid_auto_flow": null,
            "grid_auto_rows": null,
            "grid_column": null,
            "grid_gap": null,
            "grid_row": null,
            "grid_template_areas": null,
            "grid_template_columns": null,
            "grid_template_rows": null,
            "height": null,
            "justify_content": null,
            "justify_items": null,
            "left": null,
            "margin": null,
            "max_height": null,
            "max_width": null,
            "min_height": null,
            "min_width": null,
            "object_fit": null,
            "object_position": null,
            "order": null,
            "overflow": null,
            "overflow_x": null,
            "overflow_y": null,
            "padding": null,
            "right": null,
            "top": null,
            "visibility": null,
            "width": null
          }
        },
        "11d5a20e978a4d628b87c3b2fd2bacf5": {
          "model_module": "@jupyter-widgets/base",
          "model_name": "LayoutModel",
          "model_module_version": "1.2.0",
          "state": {
            "_model_module": "@jupyter-widgets/base",
            "_model_module_version": "1.2.0",
            "_model_name": "LayoutModel",
            "_view_count": null,
            "_view_module": "@jupyter-widgets/base",
            "_view_module_version": "1.2.0",
            "_view_name": "LayoutView",
            "align_content": null,
            "align_items": null,
            "align_self": null,
            "border": null,
            "bottom": null,
            "display": null,
            "flex": null,
            "flex_flow": null,
            "grid_area": null,
            "grid_auto_columns": null,
            "grid_auto_flow": null,
            "grid_auto_rows": null,
            "grid_column": null,
            "grid_gap": null,
            "grid_row": null,
            "grid_template_areas": null,
            "grid_template_columns": null,
            "grid_template_rows": null,
            "height": null,
            "justify_content": null,
            "justify_items": null,
            "left": null,
            "margin": null,
            "max_height": null,
            "max_width": null,
            "min_height": null,
            "min_width": null,
            "object_fit": null,
            "object_position": null,
            "order": null,
            "overflow": null,
            "overflow_x": null,
            "overflow_y": null,
            "padding": null,
            "right": null,
            "top": null,
            "visibility": null,
            "width": null
          }
        },
        "7ca41070071d40a89ba4c4f203926f54": {
          "model_module": "@jupyter-widgets/controls",
          "model_name": "DescriptionStyleModel",
          "model_module_version": "1.5.0",
          "state": {
            "_model_module": "@jupyter-widgets/controls",
            "_model_module_version": "1.5.0",
            "_model_name": "DescriptionStyleModel",
            "_view_count": null,
            "_view_module": "@jupyter-widgets/base",
            "_view_module_version": "1.2.0",
            "_view_name": "StyleView",
            "description_width": ""
          }
        },
        "40b23e5e880e4a17b6245030fc62c92e": {
          "model_module": "@jupyter-widgets/base",
          "model_name": "LayoutModel",
          "model_module_version": "1.2.0",
          "state": {
            "_model_module": "@jupyter-widgets/base",
            "_model_module_version": "1.2.0",
            "_model_name": "LayoutModel",
            "_view_count": null,
            "_view_module": "@jupyter-widgets/base",
            "_view_module_version": "1.2.0",
            "_view_name": "LayoutView",
            "align_content": null,
            "align_items": null,
            "align_self": null,
            "border": null,
            "bottom": null,
            "display": null,
            "flex": null,
            "flex_flow": null,
            "grid_area": null,
            "grid_auto_columns": null,
            "grid_auto_flow": null,
            "grid_auto_rows": null,
            "grid_column": null,
            "grid_gap": null,
            "grid_row": null,
            "grid_template_areas": null,
            "grid_template_columns": null,
            "grid_template_rows": null,
            "height": null,
            "justify_content": null,
            "justify_items": null,
            "left": null,
            "margin": null,
            "max_height": null,
            "max_width": null,
            "min_height": null,
            "min_width": null,
            "object_fit": null,
            "object_position": null,
            "order": null,
            "overflow": null,
            "overflow_x": null,
            "overflow_y": null,
            "padding": null,
            "right": null,
            "top": null,
            "visibility": null,
            "width": null
          }
        },
        "7de1347d5c354b6c9bb84661aabd00c7": {
          "model_module": "@jupyter-widgets/controls",
          "model_name": "ProgressStyleModel",
          "model_module_version": "1.5.0",
          "state": {
            "_model_module": "@jupyter-widgets/controls",
            "_model_module_version": "1.5.0",
            "_model_name": "ProgressStyleModel",
            "_view_count": null,
            "_view_module": "@jupyter-widgets/base",
            "_view_module_version": "1.2.0",
            "_view_name": "StyleView",
            "bar_color": null,
            "description_width": ""
          }
        },
        "23412ce062f744078d917cc19242ef47": {
          "model_module": "@jupyter-widgets/base",
          "model_name": "LayoutModel",
          "model_module_version": "1.2.0",
          "state": {
            "_model_module": "@jupyter-widgets/base",
            "_model_module_version": "1.2.0",
            "_model_name": "LayoutModel",
            "_view_count": null,
            "_view_module": "@jupyter-widgets/base",
            "_view_module_version": "1.2.0",
            "_view_name": "LayoutView",
            "align_content": null,
            "align_items": null,
            "align_self": null,
            "border": null,
            "bottom": null,
            "display": null,
            "flex": null,
            "flex_flow": null,
            "grid_area": null,
            "grid_auto_columns": null,
            "grid_auto_flow": null,
            "grid_auto_rows": null,
            "grid_column": null,
            "grid_gap": null,
            "grid_row": null,
            "grid_template_areas": null,
            "grid_template_columns": null,
            "grid_template_rows": null,
            "height": null,
            "justify_content": null,
            "justify_items": null,
            "left": null,
            "margin": null,
            "max_height": null,
            "max_width": null,
            "min_height": null,
            "min_width": null,
            "object_fit": null,
            "object_position": null,
            "order": null,
            "overflow": null,
            "overflow_x": null,
            "overflow_y": null,
            "padding": null,
            "right": null,
            "top": null,
            "visibility": null,
            "width": null
          }
        },
        "be9920579851485dad84d2e335d3c680": {
          "model_module": "@jupyter-widgets/controls",
          "model_name": "DescriptionStyleModel",
          "model_module_version": "1.5.0",
          "state": {
            "_model_module": "@jupyter-widgets/controls",
            "_model_module_version": "1.5.0",
            "_model_name": "DescriptionStyleModel",
            "_view_count": null,
            "_view_module": "@jupyter-widgets/base",
            "_view_module_version": "1.2.0",
            "_view_name": "StyleView",
            "description_width": ""
          }
        },
        "f41599a86d0445299cdceeedf6bfe6fd": {
          "model_module": "@jupyter-widgets/controls",
          "model_name": "HBoxModel",
          "model_module_version": "1.5.0",
          "state": {
            "_dom_classes": [],
            "_model_module": "@jupyter-widgets/controls",
            "_model_module_version": "1.5.0",
            "_model_name": "HBoxModel",
            "_view_count": null,
            "_view_module": "@jupyter-widgets/controls",
            "_view_module_version": "1.5.0",
            "_view_name": "HBoxView",
            "box_style": "",
            "children": [
              "IPY_MODEL_4eb61a35a4874f568f4067e92cea3814",
              "IPY_MODEL_7a5d88e2735c4048b47074dad6557471",
              "IPY_MODEL_a63bb3453e0049a8933b00f08398f364"
            ],
            "layout": "IPY_MODEL_7ece4f0a868441febbdf25f85978bddd"
          }
        },
        "4eb61a35a4874f568f4067e92cea3814": {
          "model_module": "@jupyter-widgets/controls",
          "model_name": "HTMLModel",
          "model_module_version": "1.5.0",
          "state": {
            "_dom_classes": [],
            "_model_module": "@jupyter-widgets/controls",
            "_model_module_version": "1.5.0",
            "_model_name": "HTMLModel",
            "_view_count": null,
            "_view_module": "@jupyter-widgets/controls",
            "_view_module_version": "1.5.0",
            "_view_name": "HTMLView",
            "description": "",
            "description_tooltip": null,
            "layout": "IPY_MODEL_827b7829e4d64c758cd4fde058d8f22b",
            "placeholder": "​",
            "style": "IPY_MODEL_7c4a0334ba324fd3b441a8544e886c29",
            "value": "Generate report structure: 100%"
          }
        },
        "7a5d88e2735c4048b47074dad6557471": {
          "model_module": "@jupyter-widgets/controls",
          "model_name": "FloatProgressModel",
          "model_module_version": "1.5.0",
          "state": {
            "_dom_classes": [],
            "_model_module": "@jupyter-widgets/controls",
            "_model_module_version": "1.5.0",
            "_model_name": "FloatProgressModel",
            "_view_count": null,
            "_view_module": "@jupyter-widgets/controls",
            "_view_module_version": "1.5.0",
            "_view_name": "ProgressView",
            "bar_style": "success",
            "description": "",
            "description_tooltip": null,
            "layout": "IPY_MODEL_678dc759fc0d4079b8c24e94ab878f43",
            "max": 1,
            "min": 0,
            "orientation": "horizontal",
            "style": "IPY_MODEL_c65ff118ab73402ba31e6068df8ff5a9",
            "value": 1
          }
        },
        "a63bb3453e0049a8933b00f08398f364": {
          "model_module": "@jupyter-widgets/controls",
          "model_name": "HTMLModel",
          "model_module_version": "1.5.0",
          "state": {
            "_dom_classes": [],
            "_model_module": "@jupyter-widgets/controls",
            "_model_module_version": "1.5.0",
            "_model_name": "HTMLModel",
            "_view_count": null,
            "_view_module": "@jupyter-widgets/controls",
            "_view_module_version": "1.5.0",
            "_view_name": "HTMLView",
            "description": "",
            "description_tooltip": null,
            "layout": "IPY_MODEL_3856d9d7f0534ee4b75e4d9f9149fcf9",
            "placeholder": "​",
            "style": "IPY_MODEL_3ee90af802ae483bb24dfb1052f578d5",
            "value": " 1/1 [00:11&lt;00:00, 11.27s/it]"
          }
        },
        "7ece4f0a868441febbdf25f85978bddd": {
          "model_module": "@jupyter-widgets/base",
          "model_name": "LayoutModel",
          "model_module_version": "1.2.0",
          "state": {
            "_model_module": "@jupyter-widgets/base",
            "_model_module_version": "1.2.0",
            "_model_name": "LayoutModel",
            "_view_count": null,
            "_view_module": "@jupyter-widgets/base",
            "_view_module_version": "1.2.0",
            "_view_name": "LayoutView",
            "align_content": null,
            "align_items": null,
            "align_self": null,
            "border": null,
            "bottom": null,
            "display": null,
            "flex": null,
            "flex_flow": null,
            "grid_area": null,
            "grid_auto_columns": null,
            "grid_auto_flow": null,
            "grid_auto_rows": null,
            "grid_column": null,
            "grid_gap": null,
            "grid_row": null,
            "grid_template_areas": null,
            "grid_template_columns": null,
            "grid_template_rows": null,
            "height": null,
            "justify_content": null,
            "justify_items": null,
            "left": null,
            "margin": null,
            "max_height": null,
            "max_width": null,
            "min_height": null,
            "min_width": null,
            "object_fit": null,
            "object_position": null,
            "order": null,
            "overflow": null,
            "overflow_x": null,
            "overflow_y": null,
            "padding": null,
            "right": null,
            "top": null,
            "visibility": null,
            "width": null
          }
        },
        "827b7829e4d64c758cd4fde058d8f22b": {
          "model_module": "@jupyter-widgets/base",
          "model_name": "LayoutModel",
          "model_module_version": "1.2.0",
          "state": {
            "_model_module": "@jupyter-widgets/base",
            "_model_module_version": "1.2.0",
            "_model_name": "LayoutModel",
            "_view_count": null,
            "_view_module": "@jupyter-widgets/base",
            "_view_module_version": "1.2.0",
            "_view_name": "LayoutView",
            "align_content": null,
            "align_items": null,
            "align_self": null,
            "border": null,
            "bottom": null,
            "display": null,
            "flex": null,
            "flex_flow": null,
            "grid_area": null,
            "grid_auto_columns": null,
            "grid_auto_flow": null,
            "grid_auto_rows": null,
            "grid_column": null,
            "grid_gap": null,
            "grid_row": null,
            "grid_template_areas": null,
            "grid_template_columns": null,
            "grid_template_rows": null,
            "height": null,
            "justify_content": null,
            "justify_items": null,
            "left": null,
            "margin": null,
            "max_height": null,
            "max_width": null,
            "min_height": null,
            "min_width": null,
            "object_fit": null,
            "object_position": null,
            "order": null,
            "overflow": null,
            "overflow_x": null,
            "overflow_y": null,
            "padding": null,
            "right": null,
            "top": null,
            "visibility": null,
            "width": null
          }
        },
        "7c4a0334ba324fd3b441a8544e886c29": {
          "model_module": "@jupyter-widgets/controls",
          "model_name": "DescriptionStyleModel",
          "model_module_version": "1.5.0",
          "state": {
            "_model_module": "@jupyter-widgets/controls",
            "_model_module_version": "1.5.0",
            "_model_name": "DescriptionStyleModel",
            "_view_count": null,
            "_view_module": "@jupyter-widgets/base",
            "_view_module_version": "1.2.0",
            "_view_name": "StyleView",
            "description_width": ""
          }
        },
        "678dc759fc0d4079b8c24e94ab878f43": {
          "model_module": "@jupyter-widgets/base",
          "model_name": "LayoutModel",
          "model_module_version": "1.2.0",
          "state": {
            "_model_module": "@jupyter-widgets/base",
            "_model_module_version": "1.2.0",
            "_model_name": "LayoutModel",
            "_view_count": null,
            "_view_module": "@jupyter-widgets/base",
            "_view_module_version": "1.2.0",
            "_view_name": "LayoutView",
            "align_content": null,
            "align_items": null,
            "align_self": null,
            "border": null,
            "bottom": null,
            "display": null,
            "flex": null,
            "flex_flow": null,
            "grid_area": null,
            "grid_auto_columns": null,
            "grid_auto_flow": null,
            "grid_auto_rows": null,
            "grid_column": null,
            "grid_gap": null,
            "grid_row": null,
            "grid_template_areas": null,
            "grid_template_columns": null,
            "grid_template_rows": null,
            "height": null,
            "justify_content": null,
            "justify_items": null,
            "left": null,
            "margin": null,
            "max_height": null,
            "max_width": null,
            "min_height": null,
            "min_width": null,
            "object_fit": null,
            "object_position": null,
            "order": null,
            "overflow": null,
            "overflow_x": null,
            "overflow_y": null,
            "padding": null,
            "right": null,
            "top": null,
            "visibility": null,
            "width": null
          }
        },
        "c65ff118ab73402ba31e6068df8ff5a9": {
          "model_module": "@jupyter-widgets/controls",
          "model_name": "ProgressStyleModel",
          "model_module_version": "1.5.0",
          "state": {
            "_model_module": "@jupyter-widgets/controls",
            "_model_module_version": "1.5.0",
            "_model_name": "ProgressStyleModel",
            "_view_count": null,
            "_view_module": "@jupyter-widgets/base",
            "_view_module_version": "1.2.0",
            "_view_name": "StyleView",
            "bar_color": null,
            "description_width": ""
          }
        },
        "3856d9d7f0534ee4b75e4d9f9149fcf9": {
          "model_module": "@jupyter-widgets/base",
          "model_name": "LayoutModel",
          "model_module_version": "1.2.0",
          "state": {
            "_model_module": "@jupyter-widgets/base",
            "_model_module_version": "1.2.0",
            "_model_name": "LayoutModel",
            "_view_count": null,
            "_view_module": "@jupyter-widgets/base",
            "_view_module_version": "1.2.0",
            "_view_name": "LayoutView",
            "align_content": null,
            "align_items": null,
            "align_self": null,
            "border": null,
            "bottom": null,
            "display": null,
            "flex": null,
            "flex_flow": null,
            "grid_area": null,
            "grid_auto_columns": null,
            "grid_auto_flow": null,
            "grid_auto_rows": null,
            "grid_column": null,
            "grid_gap": null,
            "grid_row": null,
            "grid_template_areas": null,
            "grid_template_columns": null,
            "grid_template_rows": null,
            "height": null,
            "justify_content": null,
            "justify_items": null,
            "left": null,
            "margin": null,
            "max_height": null,
            "max_width": null,
            "min_height": null,
            "min_width": null,
            "object_fit": null,
            "object_position": null,
            "order": null,
            "overflow": null,
            "overflow_x": null,
            "overflow_y": null,
            "padding": null,
            "right": null,
            "top": null,
            "visibility": null,
            "width": null
          }
        },
        "3ee90af802ae483bb24dfb1052f578d5": {
          "model_module": "@jupyter-widgets/controls",
          "model_name": "DescriptionStyleModel",
          "model_module_version": "1.5.0",
          "state": {
            "_model_module": "@jupyter-widgets/controls",
            "_model_module_version": "1.5.0",
            "_model_name": "DescriptionStyleModel",
            "_view_count": null,
            "_view_module": "@jupyter-widgets/base",
            "_view_module_version": "1.2.0",
            "_view_name": "StyleView",
            "description_width": ""
          }
        },
        "ced48f3d708a4e9897629e844ee5f40d": {
          "model_module": "@jupyter-widgets/controls",
          "model_name": "HBoxModel",
          "model_module_version": "1.5.0",
          "state": {
            "_dom_classes": [],
            "_model_module": "@jupyter-widgets/controls",
            "_model_module_version": "1.5.0",
            "_model_name": "HBoxModel",
            "_view_count": null,
            "_view_module": "@jupyter-widgets/controls",
            "_view_module_version": "1.5.0",
            "_view_name": "HBoxView",
            "box_style": "",
            "children": [
              "IPY_MODEL_2cc57124e1fa4e3080d50335e6458725",
              "IPY_MODEL_b7151a7f2af947d891206ca6c5053f72",
              "IPY_MODEL_d40fce475d4748a8b737ace0b928bc1d"
            ],
            "layout": "IPY_MODEL_89d774f62ce047db86e3be568250381c"
          }
        },
        "2cc57124e1fa4e3080d50335e6458725": {
          "model_module": "@jupyter-widgets/controls",
          "model_name": "HTMLModel",
          "model_module_version": "1.5.0",
          "state": {
            "_dom_classes": [],
            "_model_module": "@jupyter-widgets/controls",
            "_model_module_version": "1.5.0",
            "_model_name": "HTMLModel",
            "_view_count": null,
            "_view_module": "@jupyter-widgets/controls",
            "_view_module_version": "1.5.0",
            "_view_name": "HTMLView",
            "description": "",
            "description_tooltip": null,
            "layout": "IPY_MODEL_cec2cd1fe0804f52893dcf3ed50fb54f",
            "placeholder": "​",
            "style": "IPY_MODEL_2d91e0f9e3f549e49dec68c15b883e95",
            "value": "Render HTML: 100%"
          }
        },
        "b7151a7f2af947d891206ca6c5053f72": {
          "model_module": "@jupyter-widgets/controls",
          "model_name": "FloatProgressModel",
          "model_module_version": "1.5.0",
          "state": {
            "_dom_classes": [],
            "_model_module": "@jupyter-widgets/controls",
            "_model_module_version": "1.5.0",
            "_model_name": "FloatProgressModel",
            "_view_count": null,
            "_view_module": "@jupyter-widgets/controls",
            "_view_module_version": "1.5.0",
            "_view_name": "ProgressView",
            "bar_style": "success",
            "description": "",
            "description_tooltip": null,
            "layout": "IPY_MODEL_a115df49ddf04719b3d9e248021db7d7",
            "max": 1,
            "min": 0,
            "orientation": "horizontal",
            "style": "IPY_MODEL_00700d128bd84890b288eeaac90eca9d",
            "value": 1
          }
        },
        "d40fce475d4748a8b737ace0b928bc1d": {
          "model_module": "@jupyter-widgets/controls",
          "model_name": "HTMLModel",
          "model_module_version": "1.5.0",
          "state": {
            "_dom_classes": [],
            "_model_module": "@jupyter-widgets/controls",
            "_model_module_version": "1.5.0",
            "_model_name": "HTMLModel",
            "_view_count": null,
            "_view_module": "@jupyter-widgets/controls",
            "_view_module_version": "1.5.0",
            "_view_name": "HTMLView",
            "description": "",
            "description_tooltip": null,
            "layout": "IPY_MODEL_7a5458338dc442b69fcbb65ae1ec9580",
            "placeholder": "​",
            "style": "IPY_MODEL_db65121435b9453485a69cb6ab6aa7e6",
            "value": " 1/1 [00:01&lt;00:00,  1.88s/it]"
          }
        },
        "89d774f62ce047db86e3be568250381c": {
          "model_module": "@jupyter-widgets/base",
          "model_name": "LayoutModel",
          "model_module_version": "1.2.0",
          "state": {
            "_model_module": "@jupyter-widgets/base",
            "_model_module_version": "1.2.0",
            "_model_name": "LayoutModel",
            "_view_count": null,
            "_view_module": "@jupyter-widgets/base",
            "_view_module_version": "1.2.0",
            "_view_name": "LayoutView",
            "align_content": null,
            "align_items": null,
            "align_self": null,
            "border": null,
            "bottom": null,
            "display": null,
            "flex": null,
            "flex_flow": null,
            "grid_area": null,
            "grid_auto_columns": null,
            "grid_auto_flow": null,
            "grid_auto_rows": null,
            "grid_column": null,
            "grid_gap": null,
            "grid_row": null,
            "grid_template_areas": null,
            "grid_template_columns": null,
            "grid_template_rows": null,
            "height": null,
            "justify_content": null,
            "justify_items": null,
            "left": null,
            "margin": null,
            "max_height": null,
            "max_width": null,
            "min_height": null,
            "min_width": null,
            "object_fit": null,
            "object_position": null,
            "order": null,
            "overflow": null,
            "overflow_x": null,
            "overflow_y": null,
            "padding": null,
            "right": null,
            "top": null,
            "visibility": null,
            "width": null
          }
        },
        "cec2cd1fe0804f52893dcf3ed50fb54f": {
          "model_module": "@jupyter-widgets/base",
          "model_name": "LayoutModel",
          "model_module_version": "1.2.0",
          "state": {
            "_model_module": "@jupyter-widgets/base",
            "_model_module_version": "1.2.0",
            "_model_name": "LayoutModel",
            "_view_count": null,
            "_view_module": "@jupyter-widgets/base",
            "_view_module_version": "1.2.0",
            "_view_name": "LayoutView",
            "align_content": null,
            "align_items": null,
            "align_self": null,
            "border": null,
            "bottom": null,
            "display": null,
            "flex": null,
            "flex_flow": null,
            "grid_area": null,
            "grid_auto_columns": null,
            "grid_auto_flow": null,
            "grid_auto_rows": null,
            "grid_column": null,
            "grid_gap": null,
            "grid_row": null,
            "grid_template_areas": null,
            "grid_template_columns": null,
            "grid_template_rows": null,
            "height": null,
            "justify_content": null,
            "justify_items": null,
            "left": null,
            "margin": null,
            "max_height": null,
            "max_width": null,
            "min_height": null,
            "min_width": null,
            "object_fit": null,
            "object_position": null,
            "order": null,
            "overflow": null,
            "overflow_x": null,
            "overflow_y": null,
            "padding": null,
            "right": null,
            "top": null,
            "visibility": null,
            "width": null
          }
        },
        "2d91e0f9e3f549e49dec68c15b883e95": {
          "model_module": "@jupyter-widgets/controls",
          "model_name": "DescriptionStyleModel",
          "model_module_version": "1.5.0",
          "state": {
            "_model_module": "@jupyter-widgets/controls",
            "_model_module_version": "1.5.0",
            "_model_name": "DescriptionStyleModel",
            "_view_count": null,
            "_view_module": "@jupyter-widgets/base",
            "_view_module_version": "1.2.0",
            "_view_name": "StyleView",
            "description_width": ""
          }
        },
        "a115df49ddf04719b3d9e248021db7d7": {
          "model_module": "@jupyter-widgets/base",
          "model_name": "LayoutModel",
          "model_module_version": "1.2.0",
          "state": {
            "_model_module": "@jupyter-widgets/base",
            "_model_module_version": "1.2.0",
            "_model_name": "LayoutModel",
            "_view_count": null,
            "_view_module": "@jupyter-widgets/base",
            "_view_module_version": "1.2.0",
            "_view_name": "LayoutView",
            "align_content": null,
            "align_items": null,
            "align_self": null,
            "border": null,
            "bottom": null,
            "display": null,
            "flex": null,
            "flex_flow": null,
            "grid_area": null,
            "grid_auto_columns": null,
            "grid_auto_flow": null,
            "grid_auto_rows": null,
            "grid_column": null,
            "grid_gap": null,
            "grid_row": null,
            "grid_template_areas": null,
            "grid_template_columns": null,
            "grid_template_rows": null,
            "height": null,
            "justify_content": null,
            "justify_items": null,
            "left": null,
            "margin": null,
            "max_height": null,
            "max_width": null,
            "min_height": null,
            "min_width": null,
            "object_fit": null,
            "object_position": null,
            "order": null,
            "overflow": null,
            "overflow_x": null,
            "overflow_y": null,
            "padding": null,
            "right": null,
            "top": null,
            "visibility": null,
            "width": null
          }
        },
        "00700d128bd84890b288eeaac90eca9d": {
          "model_module": "@jupyter-widgets/controls",
          "model_name": "ProgressStyleModel",
          "model_module_version": "1.5.0",
          "state": {
            "_model_module": "@jupyter-widgets/controls",
            "_model_module_version": "1.5.0",
            "_model_name": "ProgressStyleModel",
            "_view_count": null,
            "_view_module": "@jupyter-widgets/base",
            "_view_module_version": "1.2.0",
            "_view_name": "StyleView",
            "bar_color": null,
            "description_width": ""
          }
        },
        "7a5458338dc442b69fcbb65ae1ec9580": {
          "model_module": "@jupyter-widgets/base",
          "model_name": "LayoutModel",
          "model_module_version": "1.2.0",
          "state": {
            "_model_module": "@jupyter-widgets/base",
            "_model_module_version": "1.2.0",
            "_model_name": "LayoutModel",
            "_view_count": null,
            "_view_module": "@jupyter-widgets/base",
            "_view_module_version": "1.2.0",
            "_view_name": "LayoutView",
            "align_content": null,
            "align_items": null,
            "align_self": null,
            "border": null,
            "bottom": null,
            "display": null,
            "flex": null,
            "flex_flow": null,
            "grid_area": null,
            "grid_auto_columns": null,
            "grid_auto_flow": null,
            "grid_auto_rows": null,
            "grid_column": null,
            "grid_gap": null,
            "grid_row": null,
            "grid_template_areas": null,
            "grid_template_columns": null,
            "grid_template_rows": null,
            "height": null,
            "justify_content": null,
            "justify_items": null,
            "left": null,
            "margin": null,
            "max_height": null,
            "max_width": null,
            "min_height": null,
            "min_width": null,
            "object_fit": null,
            "object_position": null,
            "order": null,
            "overflow": null,
            "overflow_x": null,
            "overflow_y": null,
            "padding": null,
            "right": null,
            "top": null,
            "visibility": null,
            "width": null
          }
        },
        "db65121435b9453485a69cb6ab6aa7e6": {
          "model_module": "@jupyter-widgets/controls",
          "model_name": "DescriptionStyleModel",
          "model_module_version": "1.5.0",
          "state": {
            "_model_module": "@jupyter-widgets/controls",
            "_model_module_version": "1.5.0",
            "_model_name": "DescriptionStyleModel",
            "_view_count": null,
            "_view_module": "@jupyter-widgets/base",
            "_view_module_version": "1.2.0",
            "_view_name": "StyleView",
            "description_width": ""
          }
        },
        "a83b1077ff35418d85bf74a27eb0af99": {
          "model_module": "@jupyter-widgets/controls",
          "model_name": "HBoxModel",
          "model_module_version": "1.5.0",
          "state": {
            "_dom_classes": [],
            "_model_module": "@jupyter-widgets/controls",
            "_model_module_version": "1.5.0",
            "_model_name": "HBoxModel",
            "_view_count": null,
            "_view_module": "@jupyter-widgets/controls",
            "_view_module_version": "1.5.0",
            "_view_name": "HBoxView",
            "box_style": "",
            "children": [
              "IPY_MODEL_714d3ce5136d4fb791e1b41789209633",
              "IPY_MODEL_43569d4cbcf24d278c68f36b5dd1afd6",
              "IPY_MODEL_312eb3e1ebf542c9ab6aa555a11d215c"
            ],
            "layout": "IPY_MODEL_6e9f29c2bb5548cdbac699d30a4d8358"
          }
        },
        "714d3ce5136d4fb791e1b41789209633": {
          "model_module": "@jupyter-widgets/controls",
          "model_name": "HTMLModel",
          "model_module_version": "1.5.0",
          "state": {
            "_dom_classes": [],
            "_model_module": "@jupyter-widgets/controls",
            "_model_module_version": "1.5.0",
            "_model_name": "HTMLModel",
            "_view_count": null,
            "_view_module": "@jupyter-widgets/controls",
            "_view_module_version": "1.5.0",
            "_view_name": "HTMLView",
            "description": "",
            "description_tooltip": null,
            "layout": "IPY_MODEL_5779771f2e974ed4a96805f0c94ee325",
            "placeholder": "​",
            "style": "IPY_MODEL_d01d14bc1bdb42af8ed87506a295bf91",
            "value": "Export report to file: 100%"
          }
        },
        "43569d4cbcf24d278c68f36b5dd1afd6": {
          "model_module": "@jupyter-widgets/controls",
          "model_name": "FloatProgressModel",
          "model_module_version": "1.5.0",
          "state": {
            "_dom_classes": [],
            "_model_module": "@jupyter-widgets/controls",
            "_model_module_version": "1.5.0",
            "_model_name": "FloatProgressModel",
            "_view_count": null,
            "_view_module": "@jupyter-widgets/controls",
            "_view_module_version": "1.5.0",
            "_view_name": "ProgressView",
            "bar_style": "success",
            "description": "",
            "description_tooltip": null,
            "layout": "IPY_MODEL_4a99f6fc8f834ba1a210f857b9295500",
            "max": 1,
            "min": 0,
            "orientation": "horizontal",
            "style": "IPY_MODEL_df03f943437840da9a2b0ba13f4beb47",
            "value": 1
          }
        },
        "312eb3e1ebf542c9ab6aa555a11d215c": {
          "model_module": "@jupyter-widgets/controls",
          "model_name": "HTMLModel",
          "model_module_version": "1.5.0",
          "state": {
            "_dom_classes": [],
            "_model_module": "@jupyter-widgets/controls",
            "_model_module_version": "1.5.0",
            "_model_name": "HTMLModel",
            "_view_count": null,
            "_view_module": "@jupyter-widgets/controls",
            "_view_module_version": "1.5.0",
            "_view_name": "HTMLView",
            "description": "",
            "description_tooltip": null,
            "layout": "IPY_MODEL_69ab2817fb24490195dc85abd09d953e",
            "placeholder": "​",
            "style": "IPY_MODEL_9a34f6dcb92341ff8c2d976feb1fc3f7",
            "value": " 1/1 [00:00&lt;00:00, 26.56it/s]"
          }
        },
        "6e9f29c2bb5548cdbac699d30a4d8358": {
          "model_module": "@jupyter-widgets/base",
          "model_name": "LayoutModel",
          "model_module_version": "1.2.0",
          "state": {
            "_model_module": "@jupyter-widgets/base",
            "_model_module_version": "1.2.0",
            "_model_name": "LayoutModel",
            "_view_count": null,
            "_view_module": "@jupyter-widgets/base",
            "_view_module_version": "1.2.0",
            "_view_name": "LayoutView",
            "align_content": null,
            "align_items": null,
            "align_self": null,
            "border": null,
            "bottom": null,
            "display": null,
            "flex": null,
            "flex_flow": null,
            "grid_area": null,
            "grid_auto_columns": null,
            "grid_auto_flow": null,
            "grid_auto_rows": null,
            "grid_column": null,
            "grid_gap": null,
            "grid_row": null,
            "grid_template_areas": null,
            "grid_template_columns": null,
            "grid_template_rows": null,
            "height": null,
            "justify_content": null,
            "justify_items": null,
            "left": null,
            "margin": null,
            "max_height": null,
            "max_width": null,
            "min_height": null,
            "min_width": null,
            "object_fit": null,
            "object_position": null,
            "order": null,
            "overflow": null,
            "overflow_x": null,
            "overflow_y": null,
            "padding": null,
            "right": null,
            "top": null,
            "visibility": null,
            "width": null
          }
        },
        "5779771f2e974ed4a96805f0c94ee325": {
          "model_module": "@jupyter-widgets/base",
          "model_name": "LayoutModel",
          "model_module_version": "1.2.0",
          "state": {
            "_model_module": "@jupyter-widgets/base",
            "_model_module_version": "1.2.0",
            "_model_name": "LayoutModel",
            "_view_count": null,
            "_view_module": "@jupyter-widgets/base",
            "_view_module_version": "1.2.0",
            "_view_name": "LayoutView",
            "align_content": null,
            "align_items": null,
            "align_self": null,
            "border": null,
            "bottom": null,
            "display": null,
            "flex": null,
            "flex_flow": null,
            "grid_area": null,
            "grid_auto_columns": null,
            "grid_auto_flow": null,
            "grid_auto_rows": null,
            "grid_column": null,
            "grid_gap": null,
            "grid_row": null,
            "grid_template_areas": null,
            "grid_template_columns": null,
            "grid_template_rows": null,
            "height": null,
            "justify_content": null,
            "justify_items": null,
            "left": null,
            "margin": null,
            "max_height": null,
            "max_width": null,
            "min_height": null,
            "min_width": null,
            "object_fit": null,
            "object_position": null,
            "order": null,
            "overflow": null,
            "overflow_x": null,
            "overflow_y": null,
            "padding": null,
            "right": null,
            "top": null,
            "visibility": null,
            "width": null
          }
        },
        "d01d14bc1bdb42af8ed87506a295bf91": {
          "model_module": "@jupyter-widgets/controls",
          "model_name": "DescriptionStyleModel",
          "model_module_version": "1.5.0",
          "state": {
            "_model_module": "@jupyter-widgets/controls",
            "_model_module_version": "1.5.0",
            "_model_name": "DescriptionStyleModel",
            "_view_count": null,
            "_view_module": "@jupyter-widgets/base",
            "_view_module_version": "1.2.0",
            "_view_name": "StyleView",
            "description_width": ""
          }
        },
        "4a99f6fc8f834ba1a210f857b9295500": {
          "model_module": "@jupyter-widgets/base",
          "model_name": "LayoutModel",
          "model_module_version": "1.2.0",
          "state": {
            "_model_module": "@jupyter-widgets/base",
            "_model_module_version": "1.2.0",
            "_model_name": "LayoutModel",
            "_view_count": null,
            "_view_module": "@jupyter-widgets/base",
            "_view_module_version": "1.2.0",
            "_view_name": "LayoutView",
            "align_content": null,
            "align_items": null,
            "align_self": null,
            "border": null,
            "bottom": null,
            "display": null,
            "flex": null,
            "flex_flow": null,
            "grid_area": null,
            "grid_auto_columns": null,
            "grid_auto_flow": null,
            "grid_auto_rows": null,
            "grid_column": null,
            "grid_gap": null,
            "grid_row": null,
            "grid_template_areas": null,
            "grid_template_columns": null,
            "grid_template_rows": null,
            "height": null,
            "justify_content": null,
            "justify_items": null,
            "left": null,
            "margin": null,
            "max_height": null,
            "max_width": null,
            "min_height": null,
            "min_width": null,
            "object_fit": null,
            "object_position": null,
            "order": null,
            "overflow": null,
            "overflow_x": null,
            "overflow_y": null,
            "padding": null,
            "right": null,
            "top": null,
            "visibility": null,
            "width": null
          }
        },
        "df03f943437840da9a2b0ba13f4beb47": {
          "model_module": "@jupyter-widgets/controls",
          "model_name": "ProgressStyleModel",
          "model_module_version": "1.5.0",
          "state": {
            "_model_module": "@jupyter-widgets/controls",
            "_model_module_version": "1.5.0",
            "_model_name": "ProgressStyleModel",
            "_view_count": null,
            "_view_module": "@jupyter-widgets/base",
            "_view_module_version": "1.2.0",
            "_view_name": "StyleView",
            "bar_color": null,
            "description_width": ""
          }
        },
        "69ab2817fb24490195dc85abd09d953e": {
          "model_module": "@jupyter-widgets/base",
          "model_name": "LayoutModel",
          "model_module_version": "1.2.0",
          "state": {
            "_model_module": "@jupyter-widgets/base",
            "_model_module_version": "1.2.0",
            "_model_name": "LayoutModel",
            "_view_count": null,
            "_view_module": "@jupyter-widgets/base",
            "_view_module_version": "1.2.0",
            "_view_name": "LayoutView",
            "align_content": null,
            "align_items": null,
            "align_self": null,
            "border": null,
            "bottom": null,
            "display": null,
            "flex": null,
            "flex_flow": null,
            "grid_area": null,
            "grid_auto_columns": null,
            "grid_auto_flow": null,
            "grid_auto_rows": null,
            "grid_column": null,
            "grid_gap": null,
            "grid_row": null,
            "grid_template_areas": null,
            "grid_template_columns": null,
            "grid_template_rows": null,
            "height": null,
            "justify_content": null,
            "justify_items": null,
            "left": null,
            "margin": null,
            "max_height": null,
            "max_width": null,
            "min_height": null,
            "min_width": null,
            "object_fit": null,
            "object_position": null,
            "order": null,
            "overflow": null,
            "overflow_x": null,
            "overflow_y": null,
            "padding": null,
            "right": null,
            "top": null,
            "visibility": null,
            "width": null
          }
        },
        "9a34f6dcb92341ff8c2d976feb1fc3f7": {
          "model_module": "@jupyter-widgets/controls",
          "model_name": "DescriptionStyleModel",
          "model_module_version": "1.5.0",
          "state": {
            "_model_module": "@jupyter-widgets/controls",
            "_model_module_version": "1.5.0",
            "_model_name": "DescriptionStyleModel",
            "_view_count": null,
            "_view_module": "@jupyter-widgets/base",
            "_view_module_version": "1.2.0",
            "_view_name": "StyleView",
            "description_width": ""
          }
        }
      }
    }
  },
  "cells": [
    {
      "cell_type": "markdown",
      "source": [
        "**Análise do Titanic**\n",
        "\n",
        "Projeto de Ciência de Dados do Kaggle. Temos as informações dos passageiros a bordo: nome, se sobreviveu, classe, gênero, sexo, idade, entre outros. No modelo de Machine Learning abaixo temos uma previsão se os passageiros na base de teste sobreviveram ou não.\n",
        "![rms-titanic-bill-cannon.jpg](data:image/jpeg;base64,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)\n",
        "\n",
        "Link: https://www.kaggle.com/competitions/titanic/data?select=gender_submission.csv"
      ],
      "metadata": {
        "id": "Qwt4fEvZcmEh"
      }
    },
    {
      "cell_type": "code",
      "source": [
        "!pip install ydata-profiling"
      ],
      "metadata": {
        "id": "e-0hY_vgfdqO"
      },
      "execution_count": null,
      "outputs": []
    },
    {
      "cell_type": "code",
      "source": [
        "import pandas as pd\n",
        "from ydata_profiling import ProfileReport"
      ],
      "metadata": {
        "id": "eB9NtBBvdbPd"
      },
      "execution_count": 4,
      "outputs": []
    },
    {
      "cell_type": "code",
      "source": [
        "# visualizando a base de treino\n",
        "treino = pd.read_csv('train.csv')\n",
        "treino.head(3)"
      ],
      "metadata": {
        "colab": {
          "base_uri": "https://localhost:8080/",
          "height": 222
        },
        "id": "5su9jQ1uejeJ",
        "outputId": "9bd54f93-2e33-4b79-d75f-27fd91d94113"
      },
      "execution_count": 5,
      "outputs": [
        {
          "output_type": "execute_result",
          "data": {
            "text/plain": [
              "   PassengerId  Survived  Pclass  \\\n",
              "0            1         0       3   \n",
              "1            2         1       1   \n",
              "2            3         1       3   \n",
              "\n",
              "                                                Name     Sex   Age  SibSp  \\\n",
              "0                            Braund, Mr. Owen Harris    male  22.0      1   \n",
              "1  Cumings, Mrs. John Bradley (Florence Briggs Th...  female  38.0      1   \n",
              "2                             Heikkinen, Miss. Laina  female  26.0      0   \n",
              "\n",
              "   Parch            Ticket     Fare Cabin Embarked  \n",
              "0      0         A/5 21171   7.2500   NaN        S  \n",
              "1      0          PC 17599  71.2833   C85        C  \n",
              "2      0  STON/O2. 3101282   7.9250   NaN        S  "
            ],
            "text/html": [
              "\n",
              "\n",
              "  <div id=\"df-405080c7-4d0d-4b9f-b780-18881960dcdc\">\n",
              "    <div class=\"colab-df-container\">\n",
              "      <div>\n",
              "<style scoped>\n",
              "    .dataframe tbody tr th:only-of-type {\n",
              "        vertical-align: middle;\n",
              "    }\n",
              "\n",
              "    .dataframe tbody tr th {\n",
              "        vertical-align: top;\n",
              "    }\n",
              "\n",
              "    .dataframe thead th {\n",
              "        text-align: right;\n",
              "    }\n",
              "</style>\n",
              "<table border=\"1\" class=\"dataframe\">\n",
              "  <thead>\n",
              "    <tr style=\"text-align: right;\">\n",
              "      <th></th>\n",
              "      <th>PassengerId</th>\n",
              "      <th>Survived</th>\n",
              "      <th>Pclass</th>\n",
              "      <th>Name</th>\n",
              "      <th>Sex</th>\n",
              "      <th>Age</th>\n",
              "      <th>SibSp</th>\n",
              "      <th>Parch</th>\n",
              "      <th>Ticket</th>\n",
              "      <th>Fare</th>\n",
              "      <th>Cabin</th>\n",
              "      <th>Embarked</th>\n",
              "    </tr>\n",
              "  </thead>\n",
              "  <tbody>\n",
              "    <tr>\n",
              "      <th>0</th>\n",
              "      <td>1</td>\n",
              "      <td>0</td>\n",
              "      <td>3</td>\n",
              "      <td>Braund, Mr. Owen Harris</td>\n",
              "      <td>male</td>\n",
              "      <td>22.0</td>\n",
              "      <td>1</td>\n",
              "      <td>0</td>\n",
              "      <td>A/5 21171</td>\n",
              "      <td>7.2500</td>\n",
              "      <td>NaN</td>\n",
              "      <td>S</td>\n",
              "    </tr>\n",
              "    <tr>\n",
              "      <th>1</th>\n",
              "      <td>2</td>\n",
              "      <td>1</td>\n",
              "      <td>1</td>\n",
              "      <td>Cumings, Mrs. John Bradley (Florence Briggs Th...</td>\n",
              "      <td>female</td>\n",
              "      <td>38.0</td>\n",
              "      <td>1</td>\n",
              "      <td>0</td>\n",
              "      <td>PC 17599</td>\n",
              "      <td>71.2833</td>\n",
              "      <td>C85</td>\n",
              "      <td>C</td>\n",
              "    </tr>\n",
              "    <tr>\n",
              "      <th>2</th>\n",
              "      <td>3</td>\n",
              "      <td>1</td>\n",
              "      <td>3</td>\n",
              "      <td>Heikkinen, Miss. Laina</td>\n",
              "      <td>female</td>\n",
              "      <td>26.0</td>\n",
              "      <td>0</td>\n",
              "      <td>0</td>\n",
              "      <td>STON/O2. 3101282</td>\n",
              "      <td>7.9250</td>\n",
              "      <td>NaN</td>\n",
              "      <td>S</td>\n",
              "    </tr>\n",
              "  </tbody>\n",
              "</table>\n",
              "</div>\n",
              "      <button class=\"colab-df-convert\" onclick=\"convertToInteractive('df-405080c7-4d0d-4b9f-b780-18881960dcdc')\"\n",
              "              title=\"Convert this dataframe to an interactive table.\"\n",
              "              style=\"display:none;\">\n",
              "\n",
              "  <svg xmlns=\"http://www.w3.org/2000/svg\" height=\"24px\"viewBox=\"0 0 24 24\"\n",
              "       width=\"24px\">\n",
              "    <path d=\"M0 0h24v24H0V0z\" fill=\"none\"/>\n",
              "    <path d=\"M18.56 5.44l.94 2.06.94-2.06 2.06-.94-2.06-.94-.94-2.06-.94 2.06-2.06.94zm-11 1L8.5 8.5l.94-2.06 2.06-.94-2.06-.94L8.5 2.5l-.94 2.06-2.06.94zm10 10l.94 2.06.94-2.06 2.06-.94-2.06-.94-.94-2.06-.94 2.06-2.06.94z\"/><path d=\"M17.41 7.96l-1.37-1.37c-.4-.4-.92-.59-1.43-.59-.52 0-1.04.2-1.43.59L10.3 9.45l-7.72 7.72c-.78.78-.78 2.05 0 2.83L4 21.41c.39.39.9.59 1.41.59.51 0 1.02-.2 1.41-.59l7.78-7.78 2.81-2.81c.8-.78.8-2.07 0-2.86zM5.41 20L4 18.59l7.72-7.72 1.47 1.35L5.41 20z\"/>\n",
              "  </svg>\n",
              "      </button>\n",
              "\n",
              "\n",
              "\n",
              "    <div id=\"df-3ab5bb20-9812-4e2e-af81-ade1c5b27fcd\">\n",
              "      <button class=\"colab-df-quickchart\" onclick=\"quickchart('df-3ab5bb20-9812-4e2e-af81-ade1c5b27fcd')\"\n",
              "              title=\"Suggest charts.\"\n",
              "              style=\"display:none;\">\n",
              "\n",
              "<svg xmlns=\"http://www.w3.org/2000/svg\" height=\"24px\"viewBox=\"0 0 24 24\"\n",
              "     width=\"24px\">\n",
              "    <g>\n",
              "        <path d=\"M19 3H5c-1.1 0-2 .9-2 2v14c0 1.1.9 2 2 2h14c1.1 0 2-.9 2-2V5c0-1.1-.9-2-2-2zM9 17H7v-7h2v7zm4 0h-2V7h2v10zm4 0h-2v-4h2v4z\"/>\n",
              "    </g>\n",
              "</svg>\n",
              "      </button>\n",
              "    </div>\n",
              "\n",
              "<style>\n",
              "  .colab-df-quickchart {\n",
              "    background-color: #E8F0FE;\n",
              "    border: none;\n",
              "    border-radius: 50%;\n",
              "    cursor: pointer;\n",
              "    display: none;\n",
              "    fill: #1967D2;\n",
              "    height: 32px;\n",
              "    padding: 0 0 0 0;\n",
              "    width: 32px;\n",
              "  }\n",
              "\n",
              "  .colab-df-quickchart:hover {\n",
              "    background-color: #E2EBFA;\n",
              "    box-shadow: 0px 1px 2px rgba(60, 64, 67, 0.3), 0px 1px 3px 1px rgba(60, 64, 67, 0.15);\n",
              "    fill: #174EA6;\n",
              "  }\n",
              "\n",
              "  [theme=dark] .colab-df-quickchart {\n",
              "    background-color: #3B4455;\n",
              "    fill: #D2E3FC;\n",
              "  }\n",
              "\n",
              "  [theme=dark] .colab-df-quickchart:hover {\n",
              "    background-color: #434B5C;\n",
              "    box-shadow: 0px 1px 3px 1px rgba(0, 0, 0, 0.15);\n",
              "    filter: drop-shadow(0px 1px 2px rgba(0, 0, 0, 0.3));\n",
              "    fill: #FFFFFF;\n",
              "  }\n",
              "</style>\n",
              "\n",
              "    <script>\n",
              "      async function quickchart(key) {\n",
              "        const containerElement = document.querySelector('#' + key);\n",
              "        const charts = await google.colab.kernel.invokeFunction(\n",
              "            'suggestCharts', [key], {});\n",
              "      }\n",
              "    </script>\n",
              "\n",
              "      <script>\n",
              "\n",
              "function displayQuickchartButton(domScope) {\n",
              "  let quickchartButtonEl =\n",
              "    domScope.querySelector('#df-3ab5bb20-9812-4e2e-af81-ade1c5b27fcd button.colab-df-quickchart');\n",
              "  quickchartButtonEl.style.display =\n",
              "    google.colab.kernel.accessAllowed ? 'block' : 'none';\n",
              "}\n",
              "\n",
              "        displayQuickchartButton(document);\n",
              "      </script>\n",
              "      <style>\n",
              "    .colab-df-container {\n",
              "      display:flex;\n",
              "      flex-wrap:wrap;\n",
              "      gap: 12px;\n",
              "    }\n",
              "\n",
              "    .colab-df-convert {\n",
              "      background-color: #E8F0FE;\n",
              "      border: none;\n",
              "      border-radius: 50%;\n",
              "      cursor: pointer;\n",
              "      display: none;\n",
              "      fill: #1967D2;\n",
              "      height: 32px;\n",
              "      padding: 0 0 0 0;\n",
              "      width: 32px;\n",
              "    }\n",
              "\n",
              "    .colab-df-convert:hover {\n",
              "      background-color: #E2EBFA;\n",
              "      box-shadow: 0px 1px 2px rgba(60, 64, 67, 0.3), 0px 1px 3px 1px rgba(60, 64, 67, 0.15);\n",
              "      fill: #174EA6;\n",
              "    }\n",
              "\n",
              "    [theme=dark] .colab-df-convert {\n",
              "      background-color: #3B4455;\n",
              "      fill: #D2E3FC;\n",
              "    }\n",
              "\n",
              "    [theme=dark] .colab-df-convert:hover {\n",
              "      background-color: #434B5C;\n",
              "      box-shadow: 0px 1px 3px 1px rgba(0, 0, 0, 0.15);\n",
              "      filter: drop-shadow(0px 1px 2px rgba(0, 0, 0, 0.3));\n",
              "      fill: #FFFFFF;\n",
              "    }\n",
              "  </style>\n",
              "\n",
              "      <script>\n",
              "        const buttonEl =\n",
              "          document.querySelector('#df-405080c7-4d0d-4b9f-b780-18881960dcdc button.colab-df-convert');\n",
              "        buttonEl.style.display =\n",
              "          google.colab.kernel.accessAllowed ? 'block' : 'none';\n",
              "\n",
              "        async function convertToInteractive(key) {\n",
              "          const element = document.querySelector('#df-405080c7-4d0d-4b9f-b780-18881960dcdc');\n",
              "          const dataTable =\n",
              "            await google.colab.kernel.invokeFunction('convertToInteractive',\n",
              "                                                     [key], {});\n",
              "          if (!dataTable) return;\n",
              "\n",
              "          const docLinkHtml = 'Like what you see? Visit the ' +\n",
              "            '<a target=\"_blank\" href=https://colab.research.google.com/notebooks/data_table.ipynb>data table notebook</a>'\n",
              "            + ' to learn more about interactive tables.';\n",
              "          element.innerHTML = '';\n",
              "          dataTable['output_type'] = 'display_data';\n",
              "          await google.colab.output.renderOutput(dataTable, element);\n",
              "          const docLink = document.createElement('div');\n",
              "          docLink.innerHTML = docLinkHtml;\n",
              "          element.appendChild(docLink);\n",
              "        }\n",
              "      </script>\n",
              "    </div>\n",
              "  </div>\n"
            ]
          },
          "metadata": {},
          "execution_count": 5
        }
      ]
    },
    {
      "cell_type": "code",
      "source": [
        "# gerando a visualização com ProfileReport\n",
        "profile = ProfileReport(treino, title='titanic_treino')\n",
        "profile.to_file('titanic_treino.html')"
      ],
      "metadata": {
        "colab": {
          "base_uri": "https://localhost:8080/",
          "height": 145,
          "referenced_widgets": [
            "5e6ade0a92c1413ea88420fa37be095d",
            "6813fb3e228f4f3aadfa116f784637fc",
            "4d2473d2dd9a4fc0bd56cf2457ec7bef",
            "24420cc3df704f798c96457a11bc1d2d",
            "e0afb277ca2242a785abc2fa81c12b15",
            "11d5a20e978a4d628b87c3b2fd2bacf5",
            "7ca41070071d40a89ba4c4f203926f54",
            "40b23e5e880e4a17b6245030fc62c92e",
            "7de1347d5c354b6c9bb84661aabd00c7",
            "23412ce062f744078d917cc19242ef47",
            "be9920579851485dad84d2e335d3c680",
            "f41599a86d0445299cdceeedf6bfe6fd",
            "4eb61a35a4874f568f4067e92cea3814",
            "7a5d88e2735c4048b47074dad6557471",
            "a63bb3453e0049a8933b00f08398f364",
            "7ece4f0a868441febbdf25f85978bddd",
            "827b7829e4d64c758cd4fde058d8f22b",
            "7c4a0334ba324fd3b441a8544e886c29",
            "678dc759fc0d4079b8c24e94ab878f43",
            "c65ff118ab73402ba31e6068df8ff5a9",
            "3856d9d7f0534ee4b75e4d9f9149fcf9",
            "3ee90af802ae483bb24dfb1052f578d5",
            "ced48f3d708a4e9897629e844ee5f40d",
            "2cc57124e1fa4e3080d50335e6458725",
            "b7151a7f2af947d891206ca6c5053f72",
            "d40fce475d4748a8b737ace0b928bc1d",
            "89d774f62ce047db86e3be568250381c",
            "cec2cd1fe0804f52893dcf3ed50fb54f",
            "2d91e0f9e3f549e49dec68c15b883e95",
            "a115df49ddf04719b3d9e248021db7d7",
            "00700d128bd84890b288eeaac90eca9d",
            "7a5458338dc442b69fcbb65ae1ec9580",
            "db65121435b9453485a69cb6ab6aa7e6",
            "a83b1077ff35418d85bf74a27eb0af99",
            "714d3ce5136d4fb791e1b41789209633",
            "43569d4cbcf24d278c68f36b5dd1afd6",
            "312eb3e1ebf542c9ab6aa555a11d215c",
            "6e9f29c2bb5548cdbac699d30a4d8358",
            "5779771f2e974ed4a96805f0c94ee325",
            "d01d14bc1bdb42af8ed87506a295bf91",
            "4a99f6fc8f834ba1a210f857b9295500",
            "df03f943437840da9a2b0ba13f4beb47",
            "69ab2817fb24490195dc85abd09d953e",
            "9a34f6dcb92341ff8c2d976feb1fc3f7"
          ]
        },
        "id": "WSMG5mlAf9Hb",
        "outputId": "1103cba2-3ac0-4147-d07b-40ca97fadbe9"
      },
      "execution_count": 6,
      "outputs": [
        {
          "output_type": "display_data",
          "data": {
            "text/plain": [
              "Summarize dataset:   0%|          | 0/5 [00:00<?, ?it/s]"
            ],
            "application/vnd.jupyter.widget-view+json": {
              "version_major": 2,
              "version_minor": 0,
              "model_id": "5e6ade0a92c1413ea88420fa37be095d"
            }
          },
          "metadata": {}
        },
        {
          "output_type": "display_data",
          "data": {
            "text/plain": [
              "Generate report structure:   0%|          | 0/1 [00:00<?, ?it/s]"
            ],
            "application/vnd.jupyter.widget-view+json": {
              "version_major": 2,
              "version_minor": 0,
              "model_id": "f41599a86d0445299cdceeedf6bfe6fd"
            }
          },
          "metadata": {}
        },
        {
          "output_type": "display_data",
          "data": {
            "text/plain": [
              "Render HTML:   0%|          | 0/1 [00:00<?, ?it/s]"
            ],
            "application/vnd.jupyter.widget-view+json": {
              "version_major": 2,
              "version_minor": 0,
              "model_id": "ced48f3d708a4e9897629e844ee5f40d"
            }
          },
          "metadata": {}
        },
        {
          "output_type": "display_data",
          "data": {
            "text/plain": [
              "Export report to file:   0%|          | 0/1 [00:00<?, ?it/s]"
            ],
            "application/vnd.jupyter.widget-view+json": {
              "version_major": 2,
              "version_minor": 0,
              "model_id": "a83b1077ff35418d85bf74a27eb0af99"
            }
          },
          "metadata": {}
        }
      ]
    },
    {
      "cell_type": "code",
      "source": [
        "# verificando as informações da base\n",
        "treino.info()"
      ],
      "metadata": {
        "colab": {
          "base_uri": "https://localhost:8080/"
        },
        "id": "ea76iSxvg9ae",
        "outputId": "36db75a2-f533-4ce6-eb32-5c64b0fb2749"
      },
      "execution_count": 8,
      "outputs": [
        {
          "output_type": "stream",
          "name": "stdout",
          "text": [
            "<class 'pandas.core.frame.DataFrame'>\n",
            "RangeIndex: 891 entries, 0 to 890\n",
            "Data columns (total 12 columns):\n",
            " #   Column       Non-Null Count  Dtype  \n",
            "---  ------       --------------  -----  \n",
            " 0   PassengerId  891 non-null    int64  \n",
            " 1   Survived     891 non-null    int64  \n",
            " 2   Pclass       891 non-null    int64  \n",
            " 3   Name         891 non-null    object \n",
            " 4   Sex          891 non-null    object \n",
            " 5   Age          714 non-null    float64\n",
            " 6   SibSp        891 non-null    int64  \n",
            " 7   Parch        891 non-null    int64  \n",
            " 8   Ticket       891 non-null    object \n",
            " 9   Fare         891 non-null    float64\n",
            " 10  Cabin        204 non-null    object \n",
            " 11  Embarked     889 non-null    object \n",
            "dtypes: float64(2), int64(5), object(5)\n",
            "memory usage: 83.7+ KB\n"
          ]
        }
      ]
    },
    {
      "cell_type": "code",
      "source": [
        "treino.dtypes.value_counts()"
      ],
      "metadata": {
        "colab": {
          "base_uri": "https://localhost:8080/"
        },
        "id": "x8twLOP_hLuG",
        "outputId": "90da6e80-ddd3-4624-f7b4-bea72d2598e8"
      },
      "execution_count": 9,
      "outputs": [
        {
          "output_type": "execute_result",
          "data": {
            "text/plain": [
              "int64      5\n",
              "object     5\n",
              "float64    2\n",
              "dtype: int64"
            ]
          },
          "metadata": {},
          "execution_count": 9
        }
      ]
    },
    {
      "cell_type": "code",
      "source": [
        "# verificando valores nulos\n",
        "treino.isnull().sum().sort_values(ascending=False).head(5)"
      ],
      "metadata": {
        "colab": {
          "base_uri": "https://localhost:8080/"
        },
        "id": "zY32oSQEhTt3",
        "outputId": "d00852c1-4f6d-4608-a485-dbc0be70ee22"
      },
      "execution_count": 10,
      "outputs": [
        {
          "output_type": "execute_result",
          "data": {
            "text/plain": [
              "Cabin          687\n",
              "Age            177\n",
              "Embarked         2\n",
              "PassengerId      0\n",
              "Survived         0\n",
              "dtype: int64"
            ]
          },
          "metadata": {},
          "execution_count": 10
        }
      ]
    },
    {
      "cell_type": "markdown",
      "source": [
        "**Visualizando a base de teste**"
      ],
      "metadata": {
        "id": "SkkWkpEvhlGN"
      }
    },
    {
      "cell_type": "code",
      "source": [
        "# visualizando a base de teste\n",
        "teste = pd.read_csv('test.csv')\n",
        "teste.head(3)"
      ],
      "metadata": {
        "colab": {
          "base_uri": "https://localhost:8080/",
          "height": 143
        },
        "id": "AbGprGkbhogZ",
        "outputId": "b91fdfdf-a229-42c3-db1a-92a2a08a4f2c"
      },
      "execution_count": 11,
      "outputs": [
        {
          "output_type": "execute_result",
          "data": {
            "text/plain": [
              "   PassengerId  Pclass                              Name     Sex   Age  SibSp  \\\n",
              "0          892       3                  Kelly, Mr. James    male  34.5      0   \n",
              "1          893       3  Wilkes, Mrs. James (Ellen Needs)  female  47.0      1   \n",
              "2          894       2         Myles, Mr. Thomas Francis    male  62.0      0   \n",
              "\n",
              "   Parch  Ticket    Fare Cabin Embarked  \n",
              "0      0  330911  7.8292   NaN        Q  \n",
              "1      0  363272  7.0000   NaN        S  \n",
              "2      0  240276  9.6875   NaN        Q  "
            ],
            "text/html": [
              "\n",
              "\n",
              "  <div id=\"df-b9a5956a-d6cb-4c75-80f6-807d8ce2d542\">\n",
              "    <div class=\"colab-df-container\">\n",
              "      <div>\n",
              "<style scoped>\n",
              "    .dataframe tbody tr th:only-of-type {\n",
              "        vertical-align: middle;\n",
              "    }\n",
              "\n",
              "    .dataframe tbody tr th {\n",
              "        vertical-align: top;\n",
              "    }\n",
              "\n",
              "    .dataframe thead th {\n",
              "        text-align: right;\n",
              "    }\n",
              "</style>\n",
              "<table border=\"1\" class=\"dataframe\">\n",
              "  <thead>\n",
              "    <tr style=\"text-align: right;\">\n",
              "      <th></th>\n",
              "      <th>PassengerId</th>\n",
              "      <th>Pclass</th>\n",
              "      <th>Name</th>\n",
              "      <th>Sex</th>\n",
              "      <th>Age</th>\n",
              "      <th>SibSp</th>\n",
              "      <th>Parch</th>\n",
              "      <th>Ticket</th>\n",
              "      <th>Fare</th>\n",
              "      <th>Cabin</th>\n",
              "      <th>Embarked</th>\n",
              "    </tr>\n",
              "  </thead>\n",
              "  <tbody>\n",
              "    <tr>\n",
              "      <th>0</th>\n",
              "      <td>892</td>\n",
              "      <td>3</td>\n",
              "      <td>Kelly, Mr. James</td>\n",
              "      <td>male</td>\n",
              "      <td>34.5</td>\n",
              "      <td>0</td>\n",
              "      <td>0</td>\n",
              "      <td>330911</td>\n",
              "      <td>7.8292</td>\n",
              "      <td>NaN</td>\n",
              "      <td>Q</td>\n",
              "    </tr>\n",
              "    <tr>\n",
              "      <th>1</th>\n",
              "      <td>893</td>\n",
              "      <td>3</td>\n",
              "      <td>Wilkes, Mrs. James (Ellen Needs)</td>\n",
              "      <td>female</td>\n",
              "      <td>47.0</td>\n",
              "      <td>1</td>\n",
              "      <td>0</td>\n",
              "      <td>363272</td>\n",
              "      <td>7.0000</td>\n",
              "      <td>NaN</td>\n",
              "      <td>S</td>\n",
              "    </tr>\n",
              "    <tr>\n",
              "      <th>2</th>\n",
              "      <td>894</td>\n",
              "      <td>2</td>\n",
              "      <td>Myles, Mr. Thomas Francis</td>\n",
              "      <td>male</td>\n",
              "      <td>62.0</td>\n",
              "      <td>0</td>\n",
              "      <td>0</td>\n",
              "      <td>240276</td>\n",
              "      <td>9.6875</td>\n",
              "      <td>NaN</td>\n",
              "      <td>Q</td>\n",
              "    </tr>\n",
              "  </tbody>\n",
              "</table>\n",
              "</div>\n",
              "      <button class=\"colab-df-convert\" onclick=\"convertToInteractive('df-b9a5956a-d6cb-4c75-80f6-807d8ce2d542')\"\n",
              "              title=\"Convert this dataframe to an interactive table.\"\n",
              "              style=\"display:none;\">\n",
              "\n",
              "  <svg xmlns=\"http://www.w3.org/2000/svg\" height=\"24px\"viewBox=\"0 0 24 24\"\n",
              "       width=\"24px\">\n",
              "    <path d=\"M0 0h24v24H0V0z\" fill=\"none\"/>\n",
              "    <path d=\"M18.56 5.44l.94 2.06.94-2.06 2.06-.94-2.06-.94-.94-2.06-.94 2.06-2.06.94zm-11 1L8.5 8.5l.94-2.06 2.06-.94-2.06-.94L8.5 2.5l-.94 2.06-2.06.94zm10 10l.94 2.06.94-2.06 2.06-.94-2.06-.94-.94-2.06-.94 2.06-2.06.94z\"/><path d=\"M17.41 7.96l-1.37-1.37c-.4-.4-.92-.59-1.43-.59-.52 0-1.04.2-1.43.59L10.3 9.45l-7.72 7.72c-.78.78-.78 2.05 0 2.83L4 21.41c.39.39.9.59 1.41.59.51 0 1.02-.2 1.41-.59l7.78-7.78 2.81-2.81c.8-.78.8-2.07 0-2.86zM5.41 20L4 18.59l7.72-7.72 1.47 1.35L5.41 20z\"/>\n",
              "  </svg>\n",
              "      </button>\n",
              "\n",
              "\n",
              "\n",
              "    <div id=\"df-39c8d31c-6f93-4701-b043-166a1d54d72e\">\n",
              "      <button class=\"colab-df-quickchart\" onclick=\"quickchart('df-39c8d31c-6f93-4701-b043-166a1d54d72e')\"\n",
              "              title=\"Suggest charts.\"\n",
              "              style=\"display:none;\">\n",
              "\n",
              "<svg xmlns=\"http://www.w3.org/2000/svg\" height=\"24px\"viewBox=\"0 0 24 24\"\n",
              "     width=\"24px\">\n",
              "    <g>\n",
              "        <path d=\"M19 3H5c-1.1 0-2 .9-2 2v14c0 1.1.9 2 2 2h14c1.1 0 2-.9 2-2V5c0-1.1-.9-2-2-2zM9 17H7v-7h2v7zm4 0h-2V7h2v10zm4 0h-2v-4h2v4z\"/>\n",
              "    </g>\n",
              "</svg>\n",
              "      </button>\n",
              "    </div>\n",
              "\n",
              "<style>\n",
              "  .colab-df-quickchart {\n",
              "    background-color: #E8F0FE;\n",
              "    border: none;\n",
              "    border-radius: 50%;\n",
              "    cursor: pointer;\n",
              "    display: none;\n",
              "    fill: #1967D2;\n",
              "    height: 32px;\n",
              "    padding: 0 0 0 0;\n",
              "    width: 32px;\n",
              "  }\n",
              "\n",
              "  .colab-df-quickchart:hover {\n",
              "    background-color: #E2EBFA;\n",
              "    box-shadow: 0px 1px 2px rgba(60, 64, 67, 0.3), 0px 1px 3px 1px rgba(60, 64, 67, 0.15);\n",
              "    fill: #174EA6;\n",
              "  }\n",
              "\n",
              "  [theme=dark] .colab-df-quickchart {\n",
              "    background-color: #3B4455;\n",
              "    fill: #D2E3FC;\n",
              "  }\n",
              "\n",
              "  [theme=dark] .colab-df-quickchart:hover {\n",
              "    background-color: #434B5C;\n",
              "    box-shadow: 0px 1px 3px 1px rgba(0, 0, 0, 0.15);\n",
              "    filter: drop-shadow(0px 1px 2px rgba(0, 0, 0, 0.3));\n",
              "    fill: #FFFFFF;\n",
              "  }\n",
              "</style>\n",
              "\n",
              "    <script>\n",
              "      async function quickchart(key) {\n",
              "        const containerElement = document.querySelector('#' + key);\n",
              "        const charts = await google.colab.kernel.invokeFunction(\n",
              "            'suggestCharts', [key], {});\n",
              "      }\n",
              "    </script>\n",
              "\n",
              "      <script>\n",
              "\n",
              "function displayQuickchartButton(domScope) {\n",
              "  let quickchartButtonEl =\n",
              "    domScope.querySelector('#df-39c8d31c-6f93-4701-b043-166a1d54d72e button.colab-df-quickchart');\n",
              "  quickchartButtonEl.style.display =\n",
              "    google.colab.kernel.accessAllowed ? 'block' : 'none';\n",
              "}\n",
              "\n",
              "        displayQuickchartButton(document);\n",
              "      </script>\n",
              "      <style>\n",
              "    .colab-df-container {\n",
              "      display:flex;\n",
              "      flex-wrap:wrap;\n",
              "      gap: 12px;\n",
              "    }\n",
              "\n",
              "    .colab-df-convert {\n",
              "      background-color: #E8F0FE;\n",
              "      border: none;\n",
              "      border-radius: 50%;\n",
              "      cursor: pointer;\n",
              "      display: none;\n",
              "      fill: #1967D2;\n",
              "      height: 32px;\n",
              "      padding: 0 0 0 0;\n",
              "      width: 32px;\n",
              "    }\n",
              "\n",
              "    .colab-df-convert:hover {\n",
              "      background-color: #E2EBFA;\n",
              "      box-shadow: 0px 1px 2px rgba(60, 64, 67, 0.3), 0px 1px 3px 1px rgba(60, 64, 67, 0.15);\n",
              "      fill: #174EA6;\n",
              "    }\n",
              "\n",
              "    [theme=dark] .colab-df-convert {\n",
              "      background-color: #3B4455;\n",
              "      fill: #D2E3FC;\n",
              "    }\n",
              "\n",
              "    [theme=dark] .colab-df-convert:hover {\n",
              "      background-color: #434B5C;\n",
              "      box-shadow: 0px 1px 3px 1px rgba(0, 0, 0, 0.15);\n",
              "      filter: drop-shadow(0px 1px 2px rgba(0, 0, 0, 0.3));\n",
              "      fill: #FFFFFF;\n",
              "    }\n",
              "  </style>\n",
              "\n",
              "      <script>\n",
              "        const buttonEl =\n",
              "          document.querySelector('#df-b9a5956a-d6cb-4c75-80f6-807d8ce2d542 button.colab-df-convert');\n",
              "        buttonEl.style.display =\n",
              "          google.colab.kernel.accessAllowed ? 'block' : 'none';\n",
              "\n",
              "        async function convertToInteractive(key) {\n",
              "          const element = document.querySelector('#df-b9a5956a-d6cb-4c75-80f6-807d8ce2d542');\n",
              "          const dataTable =\n",
              "            await google.colab.kernel.invokeFunction('convertToInteractive',\n",
              "                                                     [key], {});\n",
              "          if (!dataTable) return;\n",
              "\n",
              "          const docLinkHtml = 'Like what you see? Visit the ' +\n",
              "            '<a target=\"_blank\" href=https://colab.research.google.com/notebooks/data_table.ipynb>data table notebook</a>'\n",
              "            + ' to learn more about interactive tables.';\n",
              "          element.innerHTML = '';\n",
              "          dataTable['output_type'] = 'display_data';\n",
              "          await google.colab.output.renderOutput(dataTable, element);\n",
              "          const docLink = document.createElement('div');\n",
              "          docLink.innerHTML = docLinkHtml;\n",
              "          element.appendChild(docLink);\n",
              "        }\n",
              "      </script>\n",
              "    </div>\n",
              "  </div>\n"
            ]
          },
          "metadata": {},
          "execution_count": 11
        }
      ]
    },
    {
      "cell_type": "code",
      "source": [
        "# analisando os valores nulos\n",
        "teste.isnull().sum().sort_values(ascending=False).head(5)"
      ],
      "metadata": {
        "colab": {
          "base_uri": "https://localhost:8080/"
        },
        "id": "MF5sJvgBhyMk",
        "outputId": "c0d261de-36cc-4cd1-8484-12dadd685e4f"
      },
      "execution_count": 13,
      "outputs": [
        {
          "output_type": "execute_result",
          "data": {
            "text/plain": [
              "Cabin          327\n",
              "Age             86\n",
              "Fare             1\n",
              "PassengerId      0\n",
              "Pclass           0\n",
              "dtype: int64"
            ]
          },
          "metadata": {},
          "execution_count": 13
        }
      ]
    },
    {
      "cell_type": "markdown",
      "source": [
        "Temos colunas que possuem valores vazios na base de teste que não estão vazias na base de treino, nesse caso, precisaríamos tratar essas colunas apenas na base de teste.\n",
        "\n",
        "- podemos começar tratando os valores vazios"
      ],
      "metadata": {
        "id": "enjeh1Z2i7Y6"
      }
    },
    {
      "cell_type": "code",
      "source": [
        "# verificando novamente valores vazios para a base de treino\n",
        "treino.isnull().sum().sort_values(ascending=False).head(5)"
      ],
      "metadata": {
        "colab": {
          "base_uri": "https://localhost:8080/"
        },
        "id": "XAoUopf3jPCf",
        "outputId": "046c0c22-3cbb-4619-9e1c-06ba522b8257"
      },
      "execution_count": 15,
      "outputs": [
        {
          "output_type": "execute_result",
          "data": {
            "text/plain": [
              "Cabin          687\n",
              "Age            177\n",
              "Embarked         2\n",
              "PassengerId      0\n",
              "Survived         0\n",
              "dtype: int64"
            ]
          },
          "metadata": {},
          "execution_count": 15
        }
      ]
    },
    {
      "cell_type": "code",
      "source": [
        "# verificando quantas linhas e colunas temos na base\n",
        "treino.shape"
      ],
      "metadata": {
        "colab": {
          "base_uri": "https://localhost:8080/"
        },
        "id": "XsI_C7PKjfrT",
        "outputId": "b6e282f2-1275-4309-8ced-091935b4a6aa"
      },
      "execution_count": 17,
      "outputs": [
        {
          "output_type": "execute_result",
          "data": {
            "text/plain": [
              "(891, 12)"
            ]
          },
          "metadata": {},
          "execution_count": 17
        }
      ]
    },
    {
      "cell_type": "markdown",
      "source": [
        "Grande parte das linhas estão vazias, sendo 687 de 891"
      ],
      "metadata": {
        "id": "m6Ez4SkTjiKT"
      }
    },
    {
      "cell_type": "code",
      "source": [
        "treino.head(4)"
      ],
      "metadata": {
        "colab": {
          "base_uri": "https://localhost:8080/",
          "height": 253
        },
        "id": "dnlLPptCj07u",
        "outputId": "7518a8fd-d82a-4311-fd88-6f86db28e410"
      },
      "execution_count": 18,
      "outputs": [
        {
          "output_type": "execute_result",
          "data": {
            "text/plain": [
              "   PassengerId  Survived  Pclass  \\\n",
              "0            1         0       3   \n",
              "1            2         1       1   \n",
              "2            3         1       3   \n",
              "3            4         1       1   \n",
              "\n",
              "                                                Name     Sex   Age  SibSp  \\\n",
              "0                            Braund, Mr. Owen Harris    male  22.0      1   \n",
              "1  Cumings, Mrs. John Bradley (Florence Briggs Th...  female  38.0      1   \n",
              "2                             Heikkinen, Miss. Laina  female  26.0      0   \n",
              "3       Futrelle, Mrs. Jacques Heath (Lily May Peel)  female  35.0      1   \n",
              "\n",
              "   Parch            Ticket     Fare Cabin Embarked  \n",
              "0      0         A/5 21171   7.2500   NaN        S  \n",
              "1      0          PC 17599  71.2833   C85        C  \n",
              "2      0  STON/O2. 3101282   7.9250   NaN        S  \n",
              "3      0            113803  53.1000  C123        S  "
            ],
            "text/html": [
              "\n",
              "\n",
              "  <div id=\"df-4f5c6e57-01ae-4f3e-b740-4e8d7349cf51\">\n",
              "    <div class=\"colab-df-container\">\n",
              "      <div>\n",
              "<style scoped>\n",
              "    .dataframe tbody tr th:only-of-type {\n",
              "        vertical-align: middle;\n",
              "    }\n",
              "\n",
              "    .dataframe tbody tr th {\n",
              "        vertical-align: top;\n",
              "    }\n",
              "\n",
              "    .dataframe thead th {\n",
              "        text-align: right;\n",
              "    }\n",
              "</style>\n",
              "<table border=\"1\" class=\"dataframe\">\n",
              "  <thead>\n",
              "    <tr style=\"text-align: right;\">\n",
              "      <th></th>\n",
              "      <th>PassengerId</th>\n",
              "      <th>Survived</th>\n",
              "      <th>Pclass</th>\n",
              "      <th>Name</th>\n",
              "      <th>Sex</th>\n",
              "      <th>Age</th>\n",
              "      <th>SibSp</th>\n",
              "      <th>Parch</th>\n",
              "      <th>Ticket</th>\n",
              "      <th>Fare</th>\n",
              "      <th>Cabin</th>\n",
              "      <th>Embarked</th>\n",
              "    </tr>\n",
              "  </thead>\n",
              "  <tbody>\n",
              "    <tr>\n",
              "      <th>0</th>\n",
              "      <td>1</td>\n",
              "      <td>0</td>\n",
              "      <td>3</td>\n",
              "      <td>Braund, Mr. Owen Harris</td>\n",
              "      <td>male</td>\n",
              "      <td>22.0</td>\n",
              "      <td>1</td>\n",
              "      <td>0</td>\n",
              "      <td>A/5 21171</td>\n",
              "      <td>7.2500</td>\n",
              "      <td>NaN</td>\n",
              "      <td>S</td>\n",
              "    </tr>\n",
              "    <tr>\n",
              "      <th>1</th>\n",
              "      <td>2</td>\n",
              "      <td>1</td>\n",
              "      <td>1</td>\n",
              "      <td>Cumings, Mrs. John Bradley (Florence Briggs Th...</td>\n",
              "      <td>female</td>\n",
              "      <td>38.0</td>\n",
              "      <td>1</td>\n",
              "      <td>0</td>\n",
              "      <td>PC 17599</td>\n",
              "      <td>71.2833</td>\n",
              "      <td>C85</td>\n",
              "      <td>C</td>\n",
              "    </tr>\n",
              "    <tr>\n",
              "      <th>2</th>\n",
              "      <td>3</td>\n",
              "      <td>1</td>\n",
              "      <td>3</td>\n",
              "      <td>Heikkinen, Miss. Laina</td>\n",
              "      <td>female</td>\n",
              "      <td>26.0</td>\n",
              "      <td>0</td>\n",
              "      <td>0</td>\n",
              "      <td>STON/O2. 3101282</td>\n",
              "      <td>7.9250</td>\n",
              "      <td>NaN</td>\n",
              "      <td>S</td>\n",
              "    </tr>\n",
              "    <tr>\n",
              "      <th>3</th>\n",
              "      <td>4</td>\n",
              "      <td>1</td>\n",
              "      <td>1</td>\n",
              "      <td>Futrelle, Mrs. Jacques Heath (Lily May Peel)</td>\n",
              "      <td>female</td>\n",
              "      <td>35.0</td>\n",
              "      <td>1</td>\n",
              "      <td>0</td>\n",
              "      <td>113803</td>\n",
              "      <td>53.1000</td>\n",
              "      <td>C123</td>\n",
              "      <td>S</td>\n",
              "    </tr>\n",
              "  </tbody>\n",
              "</table>\n",
              "</div>\n",
              "      <button class=\"colab-df-convert\" onclick=\"convertToInteractive('df-4f5c6e57-01ae-4f3e-b740-4e8d7349cf51')\"\n",
              "              title=\"Convert this dataframe to an interactive table.\"\n",
              "              style=\"display:none;\">\n",
              "\n",
              "  <svg xmlns=\"http://www.w3.org/2000/svg\" height=\"24px\"viewBox=\"0 0 24 24\"\n",
              "       width=\"24px\">\n",
              "    <path d=\"M0 0h24v24H0V0z\" fill=\"none\"/>\n",
              "    <path d=\"M18.56 5.44l.94 2.06.94-2.06 2.06-.94-2.06-.94-.94-2.06-.94 2.06-2.06.94zm-11 1L8.5 8.5l.94-2.06 2.06-.94-2.06-.94L8.5 2.5l-.94 2.06-2.06.94zm10 10l.94 2.06.94-2.06 2.06-.94-2.06-.94-.94-2.06-.94 2.06-2.06.94z\"/><path d=\"M17.41 7.96l-1.37-1.37c-.4-.4-.92-.59-1.43-.59-.52 0-1.04.2-1.43.59L10.3 9.45l-7.72 7.72c-.78.78-.78 2.05 0 2.83L4 21.41c.39.39.9.59 1.41.59.51 0 1.02-.2 1.41-.59l7.78-7.78 2.81-2.81c.8-.78.8-2.07 0-2.86zM5.41 20L4 18.59l7.72-7.72 1.47 1.35L5.41 20z\"/>\n",
              "  </svg>\n",
              "      </button>\n",
              "\n",
              "\n",
              "\n",
              "    <div id=\"df-4b19508c-0b1c-4b8c-8640-545b449b591c\">\n",
              "      <button class=\"colab-df-quickchart\" onclick=\"quickchart('df-4b19508c-0b1c-4b8c-8640-545b449b591c')\"\n",
              "              title=\"Suggest charts.\"\n",
              "              style=\"display:none;\">\n",
              "\n",
              "<svg xmlns=\"http://www.w3.org/2000/svg\" height=\"24px\"viewBox=\"0 0 24 24\"\n",
              "     width=\"24px\">\n",
              "    <g>\n",
              "        <path d=\"M19 3H5c-1.1 0-2 .9-2 2v14c0 1.1.9 2 2 2h14c1.1 0 2-.9 2-2V5c0-1.1-.9-2-2-2zM9 17H7v-7h2v7zm4 0h-2V7h2v10zm4 0h-2v-4h2v4z\"/>\n",
              "    </g>\n",
              "</svg>\n",
              "      </button>\n",
              "    </div>\n",
              "\n",
              "<style>\n",
              "  .colab-df-quickchart {\n",
              "    background-color: #E8F0FE;\n",
              "    border: none;\n",
              "    border-radius: 50%;\n",
              "    cursor: pointer;\n",
              "    display: none;\n",
              "    fill: #1967D2;\n",
              "    height: 32px;\n",
              "    padding: 0 0 0 0;\n",
              "    width: 32px;\n",
              "  }\n",
              "\n",
              "  .colab-df-quickchart:hover {\n",
              "    background-color: #E2EBFA;\n",
              "    box-shadow: 0px 1px 2px rgba(60, 64, 67, 0.3), 0px 1px 3px 1px rgba(60, 64, 67, 0.15);\n",
              "    fill: #174EA6;\n",
              "  }\n",
              "\n",
              "  [theme=dark] .colab-df-quickchart {\n",
              "    background-color: #3B4455;\n",
              "    fill: #D2E3FC;\n",
              "  }\n",
              "\n",
              "  [theme=dark] .colab-df-quickchart:hover {\n",
              "    background-color: #434B5C;\n",
              "    box-shadow: 0px 1px 3px 1px rgba(0, 0, 0, 0.15);\n",
              "    filter: drop-shadow(0px 1px 2px rgba(0, 0, 0, 0.3));\n",
              "    fill: #FFFFFF;\n",
              "  }\n",
              "</style>\n",
              "\n",
              "    <script>\n",
              "      async function quickchart(key) {\n",
              "        const containerElement = document.querySelector('#' + key);\n",
              "        const charts = await google.colab.kernel.invokeFunction(\n",
              "            'suggestCharts', [key], {});\n",
              "      }\n",
              "    </script>\n",
              "\n",
              "      <script>\n",
              "\n",
              "function displayQuickchartButton(domScope) {\n",
              "  let quickchartButtonEl =\n",
              "    domScope.querySelector('#df-4b19508c-0b1c-4b8c-8640-545b449b591c button.colab-df-quickchart');\n",
              "  quickchartButtonEl.style.display =\n",
              "    google.colab.kernel.accessAllowed ? 'block' : 'none';\n",
              "}\n",
              "\n",
              "        displayQuickchartButton(document);\n",
              "      </script>\n",
              "      <style>\n",
              "    .colab-df-container {\n",
              "      display:flex;\n",
              "      flex-wrap:wrap;\n",
              "      gap: 12px;\n",
              "    }\n",
              "\n",
              "    .colab-df-convert {\n",
              "      background-color: #E8F0FE;\n",
              "      border: none;\n",
              "      border-radius: 50%;\n",
              "      cursor: pointer;\n",
              "      display: none;\n",
              "      fill: #1967D2;\n",
              "      height: 32px;\n",
              "      padding: 0 0 0 0;\n",
              "      width: 32px;\n",
              "    }\n",
              "\n",
              "    .colab-df-convert:hover {\n",
              "      background-color: #E2EBFA;\n",
              "      box-shadow: 0px 1px 2px rgba(60, 64, 67, 0.3), 0px 1px 3px 1px rgba(60, 64, 67, 0.15);\n",
              "      fill: #174EA6;\n",
              "    }\n",
              "\n",
              "    [theme=dark] .colab-df-convert {\n",
              "      background-color: #3B4455;\n",
              "      fill: #D2E3FC;\n",
              "    }\n",
              "\n",
              "    [theme=dark] .colab-df-convert:hover {\n",
              "      background-color: #434B5C;\n",
              "      box-shadow: 0px 1px 3px 1px rgba(0, 0, 0, 0.15);\n",
              "      filter: drop-shadow(0px 1px 2px rgba(0, 0, 0, 0.3));\n",
              "      fill: #FFFFFF;\n",
              "    }\n",
              "  </style>\n",
              "\n",
              "      <script>\n",
              "        const buttonEl =\n",
              "          document.querySelector('#df-4f5c6e57-01ae-4f3e-b740-4e8d7349cf51 button.colab-df-convert');\n",
              "        buttonEl.style.display =\n",
              "          google.colab.kernel.accessAllowed ? 'block' : 'none';\n",
              "\n",
              "        async function convertToInteractive(key) {\n",
              "          const element = document.querySelector('#df-4f5c6e57-01ae-4f3e-b740-4e8d7349cf51');\n",
              "          const dataTable =\n",
              "            await google.colab.kernel.invokeFunction('convertToInteractive',\n",
              "                                                     [key], {});\n",
              "          if (!dataTable) return;\n",
              "\n",
              "          const docLinkHtml = 'Like what you see? Visit the ' +\n",
              "            '<a target=\"_blank\" href=https://colab.research.google.com/notebooks/data_table.ipynb>data table notebook</a>'\n",
              "            + ' to learn more about interactive tables.';\n",
              "          element.innerHTML = '';\n",
              "          dataTable['output_type'] = 'display_data';\n",
              "          await google.colab.output.renderOutput(dataTable, element);\n",
              "          const docLink = document.createElement('div');\n",
              "          docLink.innerHTML = docLinkHtml;\n",
              "          element.appendChild(docLink);\n",
              "        }\n",
              "      </script>\n",
              "    </div>\n",
              "  </div>\n"
            ]
          },
          "metadata": {},
          "execution_count": 18
        }
      ]
    },
    {
      "cell_type": "markdown",
      "source": [
        "Não temos padrão nas colunas \"Ticket\" e \"Cabin\", isso não nos ajuda na previsão."
      ],
      "metadata": {
        "id": "lipJEWrdj5jb"
      }
    },
    {
      "cell_type": "code",
      "source": [
        "# verificando a cardinalidade dos dados\n",
        "treino.nunique().sort_values(ascending=False)"
      ],
      "metadata": {
        "colab": {
          "base_uri": "https://localhost:8080/"
        },
        "id": "ff9wLop5kX7k",
        "outputId": "1f933126-fdd6-40d4-9e5d-43a04af1a34c"
      },
      "execution_count": 19,
      "outputs": [
        {
          "output_type": "execute_result",
          "data": {
            "text/plain": [
              "PassengerId    891\n",
              "Name           891\n",
              "Ticket         681\n",
              "Fare           248\n",
              "Cabin          147\n",
              "Age             88\n",
              "SibSp            7\n",
              "Parch            7\n",
              "Pclass           3\n",
              "Embarked         3\n",
              "Survived         2\n",
              "Sex              2\n",
              "dtype: int64"
            ]
          },
          "metadata": {},
          "execution_count": 19
        }
      ]
    },
    {
      "cell_type": "markdown",
      "source": [
        "Colunas com alta cardinalidade como nome, número do ticket e até mesmo o código da cabine não vão ajudar o modelo pois podem torná-lo menos generalizável. Nesse caso, vamos eliminar essas colunas."
      ],
      "metadata": {
        "id": "LLjGxdw0kdvR"
      }
    },
    {
      "cell_type": "code",
      "source": [
        "treino = treino.drop(['Name', 'Ticket', 'Cabin'], axis=1)"
      ],
      "metadata": {
        "id": "x8i0nPqPkrwZ"
      },
      "execution_count": 20,
      "outputs": []
    },
    {
      "cell_type": "code",
      "source": [
        "teste = teste.drop(['Name', 'Ticket', 'Cabin'], axis=1)"
      ],
      "metadata": {
        "id": "VEUL5hqulLVB"
      },
      "execution_count": 21,
      "outputs": []
    },
    {
      "cell_type": "markdown",
      "source": [
        "Tratando a coluna \"Age\", que possui valores vazios tanto no treino quanto no teste\n",
        "\n",
        "Como essa coluna possui a idade dos passageiros, podemos utilizar a média das idades para substituir os valores vazios."
      ],
      "metadata": {
        "id": "2ng_EoFalRT4"
      }
    },
    {
      "cell_type": "code",
      "source": [
        "# media de idades\n",
        "treino.Age.mean()"
      ],
      "metadata": {
        "colab": {
          "base_uri": "https://localhost:8080/"
        },
        "id": "8RQ0bmePl4AE",
        "outputId": "a0b0039e-c6cd-4ea6-a28c-e31e6e2fdef4"
      },
      "execution_count": 22,
      "outputs": [
        {
          "output_type": "execute_result",
          "data": {
            "text/plain": [
              "29.69911764705882"
            ]
          },
          "metadata": {},
          "execution_count": 22
        }
      ]
    },
    {
      "cell_type": "code",
      "source": [
        "# podemos substituir as idades vazias pela média\n",
        "treino.loc[treino.Age.isnull(), 'Age'] = treino.Age.mean()"
      ],
      "metadata": {
        "id": "2DuFquW1l8wN"
      },
      "execution_count": 24,
      "outputs": []
    },
    {
      "cell_type": "code",
      "source": [
        "teste.loc[teste.Age.isnull(), 'Age'] = teste.Age.mean()"
      ],
      "metadata": {
        "id": "OSIcA9pMmTNI"
      },
      "execution_count": 25,
      "outputs": []
    },
    {
      "cell_type": "markdown",
      "source": [
        "Para a base de treino, ainda temos 2 valores vazios na coluna \"Embarked\"\n",
        "\n",
        "Podemos verificar todos os valores nessa coluna e substituir os vazios pela moda"
      ],
      "metadata": {
        "id": "rEvwSljloWJ3"
      }
    },
    {
      "cell_type": "code",
      "source": [
        "treino.Embarked.value_counts()"
      ],
      "metadata": {
        "colab": {
          "base_uri": "https://localhost:8080/"
        },
        "id": "qodr9EcHoha0",
        "outputId": "2d959f2b-caec-4ebe-891a-03033e6e63e5"
      },
      "execution_count": 27,
      "outputs": [
        {
          "output_type": "execute_result",
          "data": {
            "text/plain": [
              "S    644\n",
              "C    168\n",
              "Q     77\n",
              "Name: Embarked, dtype: int64"
            ]
          },
          "metadata": {},
          "execution_count": 27
        }
      ]
    },
    {
      "cell_type": "code",
      "source": [
        "# Moda da coluna\n",
        "treino.Embarked.mode()[0]"
      ],
      "metadata": {
        "colab": {
          "base_uri": "https://localhost:8080/",
          "height": 36
        },
        "id": "VnKYPxL3on2t",
        "outputId": "98992303-1d7a-4111-b574-eb08c97e4a99"
      },
      "execution_count": 28,
      "outputs": [
        {
          "output_type": "execute_result",
          "data": {
            "text/plain": [
              "'S'"
            ],
            "application/vnd.google.colaboratory.intrinsic+json": {
              "type": "string"
            }
          },
          "metadata": {},
          "execution_count": 28
        }
      ]
    },
    {
      "cell_type": "code",
      "source": [
        "# substituindo os valores vazios\n",
        "treino.loc[treino.Embarked.isnull(), 'Embarked'] = treino.Embarked.mode()[0]"
      ],
      "metadata": {
        "id": "fuxA0tvXo08p"
      },
      "execution_count": 29,
      "outputs": []
    },
    {
      "cell_type": "markdown",
      "source": [
        "Para a base de teste ainda temos 1 valor vazio em Fare\n",
        "\n",
        "Podemos utilizar a mesma lógica que fizemos para a coluna Age e substituir pela moda"
      ],
      "metadata": {
        "id": "ZNEidGdbpJXE"
      }
    },
    {
      "cell_type": "code",
      "source": [
        "# verificando a média da coluna Fare para a base de teste\n",
        "teste.loc[teste.Fare.isnull(), 'Fare'] = teste.Fare.mean()"
      ],
      "metadata": {
        "id": "ci4wHucupT-q"
      },
      "execution_count": 30,
      "outputs": []
    },
    {
      "cell_type": "markdown",
      "source": [
        "verificando novamente os valores vazios em \"teste\" e \"treino\""
      ],
      "metadata": {
        "id": "4FTgjFlaqEAC"
      }
    },
    {
      "cell_type": "code",
      "source": [
        "treino.isnull().sum().sort_values(ascending=False).head(5)"
      ],
      "metadata": {
        "colab": {
          "base_uri": "https://localhost:8080/"
        },
        "id": "Df5zq5uipkBi",
        "outputId": "528c4ea7-a5d0-4979-ef44-da3ed5368023"
      },
      "execution_count": 32,
      "outputs": [
        {
          "output_type": "execute_result",
          "data": {
            "text/plain": [
              "PassengerId    0\n",
              "Survived       0\n",
              "Pclass         0\n",
              "Sex            0\n",
              "Age            0\n",
              "dtype: int64"
            ]
          },
          "metadata": {},
          "execution_count": 32
        }
      ]
    },
    {
      "cell_type": "code",
      "source": [
        "teste.isnull().sum().sort_values(ascending=False).head(5)"
      ],
      "metadata": {
        "colab": {
          "base_uri": "https://localhost:8080/"
        },
        "id": "VsJrfiHNqA4L",
        "outputId": "ef022c44-b913-487f-9049-6212c6137c66"
      },
      "execution_count": 33,
      "outputs": [
        {
          "output_type": "execute_result",
          "data": {
            "text/plain": [
              "PassengerId    0\n",
              "Pclass         0\n",
              "Sex            0\n",
              "Age            0\n",
              "SibSp          0\n",
              "dtype: int64"
            ]
          },
          "metadata": {},
          "execution_count": 33
        }
      ]
    },
    {
      "cell_type": "markdown",
      "source": [
        "Considerando apenas as colunas que não são de texto"
      ],
      "metadata": {
        "id": "uS8dMB2jqM3B"
      }
    },
    {
      "cell_type": "code",
      "source": [
        "# verificando as colunas de texto na base de treino\n",
        "col_treino_nr = treino.columns[treino.dtypes != 'object']\n",
        "col_treino_nr"
      ],
      "metadata": {
        "colab": {
          "base_uri": "https://localhost:8080/"
        },
        "id": "6jcYUwIDqUOb",
        "outputId": "82d0a632-0f8a-45ca-fb33-8dbe05fba406"
      },
      "execution_count": 36,
      "outputs": [
        {
          "output_type": "execute_result",
          "data": {
            "text/plain": [
              "Index(['PassengerId', 'Survived', 'Pclass', 'Age', 'SibSp', 'Parch', 'Fare'], dtype='object')"
            ]
          },
          "metadata": {},
          "execution_count": 36
        }
      ]
    },
    {
      "cell_type": "code",
      "source": [
        "# selecionando apenas os valores numéricos da base de treino\n",
        "treino_nr = treino.loc[:, col_treino_nr]"
      ],
      "metadata": {
        "id": "exLsRfZSqlAj"
      },
      "execution_count": 37,
      "outputs": []
    },
    {
      "cell_type": "markdown",
      "source": [
        "Fazendo para a base de teste"
      ],
      "metadata": {
        "id": "p1Mps2oFrDkV"
      }
    },
    {
      "cell_type": "code",
      "source": [
        "col_teste_nr = teste.columns[teste.dtypes != 'object']\n",
        "col_teste_nr"
      ],
      "metadata": {
        "colab": {
          "base_uri": "https://localhost:8080/"
        },
        "id": "vSxvR0QwrFlG",
        "outputId": "de302d64-4dd5-42dc-ec4c-20a54b893938"
      },
      "execution_count": 38,
      "outputs": [
        {
          "output_type": "execute_result",
          "data": {
            "text/plain": [
              "Index(['PassengerId', 'Pclass', 'Age', 'SibSp', 'Parch', 'Fare'], dtype='object')"
            ]
          },
          "metadata": {},
          "execution_count": 38
        }
      ]
    },
    {
      "cell_type": "code",
      "source": [
        "teste_nr = teste.loc[:, col_teste_nr]"
      ],
      "metadata": {
        "id": "Sr07uaynrOBd"
      },
      "execution_count": 39,
      "outputs": []
    }
  ]
}